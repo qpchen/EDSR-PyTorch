{
 "cells": [
  {
   "cell_type": "code",
   "execution_count": 5,
   "id": "d3372f04-b4c9-4be5-9b75-47899f445a41",
   "metadata": {
    "execution": {
     "iopub.execute_input": "2023-05-25T15:34:08.558825Z",
     "iopub.status.busy": "2023-05-25T15:34:08.558128Z",
     "iopub.status.idle": "2023-05-25T15:34:08.575672Z",
     "shell.execute_reply": "2023-05-25T15:34:08.574298Z",
     "shell.execute_reply.started": "2023-05-25T15:34:08.558767Z"
    },
    "scrolled": true,
    "tags": []
   },
   "outputs": [
    {
     "name": "stdout",
     "output_type": "stream",
     "text": [
      "mv ../../dataset/benchmark/B100/LR_DN/X3 ../../dataset/benchmark/B100/LR_DN/X3\n",
      "mv ../../dataset/benchmark/B100/LR_BD/X3 ../../dataset/benchmark/B100/LR_BD/X3\n",
      "mv ../../dataset/benchmark/B100/LR_bicubic/X4 ../../dataset/benchmark/B100/LR_bicubic/X4\n",
      "mv ../../dataset/benchmark/B100/LR_bicubic/X2 ../../dataset/benchmark/B100/LR_bicubic/X2\n",
      "mv ../../dataset/benchmark/B100/LR_bicubic/X3 ../../dataset/benchmark/B100/LR_bicubic/X3\n",
      "mv ../../dataset/benchmark/Set14/LR_DN/X3 ../../dataset/benchmark/Set14/LR_DN/X3\n",
      "mv ../../dataset/benchmark/Set14/LR_BD/X3 ../../dataset/benchmark/Set14/LR_BD/X3\n",
      "mv ../../dataset/benchmark/Set14/LR_bicubic/X4 ../../dataset/benchmark/Set14/LR_bicubic/X4\n",
      "mv ../../dataset/benchmark/Set14/LR_bicubic/X2 ../../dataset/benchmark/Set14/LR_bicubic/X2\n",
      "mv ../../dataset/benchmark/Set14/LR_bicubic/X3 ../../dataset/benchmark/Set14/LR_bicubic/X3\n",
      "mv ../../dataset/benchmark/Classic5/LR_JPEG/Q30 ../../dataset/benchmark/Classic5/LR_JPEG/Q30\n",
      "mv ../../dataset/benchmark/Classic5/LR_JPEG/Q20 ../../dataset/benchmark/Classic5/LR_JPEG/Q20\n",
      "mv ../../dataset/benchmark/Classic5/LR_JPEG/Q40 ../../dataset/benchmark/Classic5/LR_JPEG/Q40\n",
      "mv ../../dataset/benchmark/Classic5/LR_JPEG/Q10 ../../dataset/benchmark/Classic5/LR_JPEG/Q10\n",
      "mv ../../dataset/benchmark/McMaster/LR_Noise/N50 ../../dataset/benchmark/McMaster/LR_Noise/N50\n",
      "mv ../../dataset/benchmark/McMaster/LR_Noise/N25 ../../dataset/benchmark/McMaster/LR_Noise/N25\n",
      "mv ../../dataset/benchmark/McMaster/LR_Noise/N15 ../../dataset/benchmark/McMaster/LR_Noise/N15\n",
      "mv ../../dataset/benchmark/McMaster/LR_Blur/K25N2 ../../dataset/benchmark/McMaster/LR_Blur/K25N2\n",
      "mv ../../dataset/benchmark/BSD68/LR_Gray_Noise/N50 ../../dataset/benchmark/BSD68/LR_Gray_Noise/N50\n",
      "mv ../../dataset/benchmark/BSD68/LR_Gray_Noise/N25 ../../dataset/benchmark/BSD68/LR_Gray_Noise/N25\n",
      "mv ../../dataset/benchmark/BSD68/LR_Gray_Noise/N15 ../../dataset/benchmark/BSD68/LR_Gray_Noise/N15\n",
      "mv ../../dataset/benchmark/Set12/LR_Gray_Noise/N50 ../../dataset/benchmark/Set12/LR_Gray_Noise/N50\n",
      "mv ../../dataset/benchmark/Set12/LR_Gray_Noise/N25 ../../dataset/benchmark/Set12/LR_Gray_Noise/N25\n",
      "mv ../../dataset/benchmark/Set12/LR_Gray_Noise/N15 ../../dataset/benchmark/Set12/LR_Gray_Noise/N15\n",
      "mv ../../dataset/benchmark/Set5/LR_bicubicL/X4 ../../dataset/benchmark/Set5/LR_bicubicL/X4\n",
      "mv ../../dataset/benchmark/Set5/LR_bicubicL/X2 ../../dataset/benchmark/Set5/LR_bicubicL/X2\n",
      "mv ../../dataset/benchmark/Set5/LR_bicubicL/X3 ../../dataset/benchmark/Set5/LR_bicubicL/X3\n",
      "mv ../../dataset/benchmark/Set5/LR_DN/x3 ../../dataset/benchmark/Set5/LR_DN/X3\n",
      "mv ../../dataset/benchmark/Set5/LR_BD/x3 ../../dataset/benchmark/Set5/LR_BD/X3\n",
      "mv ../../dataset/benchmark/Set5/LR_bicubic/X4 ../../dataset/benchmark/Set5/LR_bicubic/X4\n",
      "mv ../../dataset/benchmark/Set5/LR_bicubic/X2 ../../dataset/benchmark/Set5/LR_bicubic/X2\n",
      "mv ../../dataset/benchmark/Set5/LR_bicubic/X3 ../../dataset/benchmark/Set5/LR_bicubic/X3\n",
      "mv ../../dataset/benchmark/Urban100_Gray/LR_Gray_Noise/n25 ../../dataset/benchmark/Urban100_Gray/LR_Gray_Noise/N25\n",
      "mv ../../dataset/benchmark/Urban100_Gray/LR_Gray_Noise/n50 ../../dataset/benchmark/Urban100_Gray/LR_Gray_Noise/N50\n",
      "mv ../../dataset/benchmark/Urban100_Gray/LR_Gray_Noise/n15 ../../dataset/benchmark/Urban100_Gray/LR_Gray_Noise/N15\n",
      "mv ../../dataset/benchmark/LIVE1/LR_JPEG/q20 ../../dataset/benchmark/LIVE1/LR_JPEG/Q20\n",
      "mv ../../dataset/benchmark/LIVE1/LR_JPEG/q40 ../../dataset/benchmark/LIVE1/LR_JPEG/Q40\n",
      "mv ../../dataset/benchmark/LIVE1/LR_JPEG/q10 ../../dataset/benchmark/LIVE1/LR_JPEG/Q10\n",
      "mv ../../dataset/benchmark/LIVE1/LR_JPEG/q30 ../../dataset/benchmark/LIVE1/LR_JPEG/Q30\n",
      "mv ../../dataset/benchmark/CBSD68/LR_Noise/n25 ../../dataset/benchmark/CBSD68/LR_Noise/N25\n",
      "mv ../../dataset/benchmark/CBSD68/LR_Noise/n50 ../../dataset/benchmark/CBSD68/LR_Noise/N50\n",
      "mv ../../dataset/benchmark/CBSD68/LR_Noise/n15 ../../dataset/benchmark/CBSD68/LR_Noise/N15\n",
      "mv ../../dataset/benchmark/Urban100/LR_Noise/n25 ../../dataset/benchmark/Urban100/LR_Noise/N25\n",
      "mv ../../dataset/benchmark/Urban100/LR_Noise/n50 ../../dataset/benchmark/Urban100/LR_Noise/N50\n",
      "mv ../../dataset/benchmark/Urban100/LR_Noise/n15 ../../dataset/benchmark/Urban100/LR_Noise/N15\n",
      "mv ../../dataset/benchmark/Urban100/LR_DN/x3 ../../dataset/benchmark/Urban100/LR_DN/X3\n",
      "mv ../../dataset/benchmark/Urban100/LR_Blur/k25n2 ../../dataset/benchmark/Urban100/LR_Blur/K25N2\n",
      "mv ../../dataset/benchmark/Urban100/LR_BD/x3 ../../dataset/benchmark/Urban100/LR_BD/X3\n",
      "mv ../../dataset/benchmark/Urban100/LR_bicubic/X4 ../../dataset/benchmark/Urban100/LR_bicubic/X4\n",
      "mv ../../dataset/benchmark/Urban100/LR_bicubic/X2 ../../dataset/benchmark/Urban100/LR_bicubic/X2\n",
      "mv ../../dataset/benchmark/Urban100/LR_bicubic/X3 ../../dataset/benchmark/Urban100/LR_bicubic/X3\n",
      "mv ../../dataset/benchmark/Kodak24/LR_Noise/n25 ../../dataset/benchmark/Kodak24/LR_Noise/N25\n",
      "mv ../../dataset/benchmark/Kodak24/LR_Noise/n50 ../../dataset/benchmark/Kodak24/LR_Noise/N50\n",
      "mv ../../dataset/benchmark/Kodak24/LR_Noise/n15 ../../dataset/benchmark/Kodak24/LR_Noise/N15\n",
      "mv ../../dataset/benchmark/Kodak24/LR_Blur/k25n2 ../../dataset/benchmark/Kodak24/LR_Blur/K25N2\n",
      "mv ../../dataset/benchmark/Manga109/LR_DN/x3 ../../dataset/benchmark/Manga109/LR_DN/X3\n",
      "mv ../../dataset/benchmark/Manga109/LR_BD/x3 ../../dataset/benchmark/Manga109/LR_BD/X3\n",
      "mv ../../dataset/benchmark/Manga109/LR_bicubic/rename_forEDSR.ipynb ../../dataset/benchmark/Manga109/LR_bicubic/reName_forEDSR.ipyNb\n",
      "mv ../../dataset/benchmark/Manga109/LR_bicubic/X8 ../../dataset/benchmark/Manga109/LR_bicubic/X8\n",
      "mv ../../dataset/benchmark/Manga109/LR_bicubic/X4 ../../dataset/benchmark/Manga109/LR_bicubic/X4\n",
      "mv ../../dataset/benchmark/Manga109/LR_bicubic/X2 ../../dataset/benchmark/Manga109/LR_bicubic/X2\n",
      "mv ../../dataset/benchmark/Manga109/LR_bicubic/X3 ../../dataset/benchmark/Manga109/LR_bicubic/X3\n"
     ]
    }
   ],
   "source": [
    "import os\n",
    "\n",
    "baseDir = '../../dataset/benchmark'\n",
    "\n",
    "for dataset in os.listdir(baseDir):\n",
    "    dataDir = os.path.join(baseDir, dataset)\n",
    "    # print(dataDir)\n",
    "    for degra in os.listdir(dataDir):\n",
    "        degraDir = os.path.join(dataDir, degra)\n",
    "        # print(degraDir)\n",
    "        if degra != 'HR':\n",
    "            for scale in os.listdir(degraDir):\n",
    "                old = os.path.join(degraDir, scale)\n",
    "                new = os.path.join(degraDir, scale.replace('x', 'X').replace('k', 'K').replace('q', 'Q').replace('n', 'N'))\n",
    "                print('mv {} {}'.format(old, new))\n",
    "                # os.system('mv {} {}'.format(old, new))\n",
    "                os.rename(old, new)\n"
   ]
  },
  {
   "cell_type": "code",
   "execution_count": 12,
   "id": "a0ede768-acd2-4005-b9ba-56ad45a7e685",
   "metadata": {
    "execution": {
     "iopub.execute_input": "2023-05-26T07:41:29.489507Z",
     "iopub.status.busy": "2023-05-26T07:41:29.488813Z",
     "iopub.status.idle": "2023-05-26T07:41:29.498089Z",
     "shell.execute_reply": "2023-05-26T07:41:29.497154Z",
     "shell.execute_reply.started": "2023-05-26T07:41:29.489449Z"
    },
    "tags": []
   },
   "outputs": [
    {
     "data": {
      "text/plain": [
       "2"
      ]
     },
     "execution_count": 12,
     "metadata": {},
     "output_type": "execute_result"
    }
   ],
   "source": [
    "import numpy as np\n",
    "lr = np.ndarray()\n",
    "len(lr)"
   ]
  },
  {
   "cell_type": "code",
   "execution_count": 15,
   "id": "6043317e-7431-4213-9bd7-6f37dc3a2ede",
   "metadata": {
    "execution": {
     "iopub.execute_input": "2023-05-26T07:42:56.032293Z",
     "iopub.status.busy": "2023-05-26T07:42:56.031614Z",
     "iopub.status.idle": "2023-05-26T07:42:56.060068Z",
     "shell.execute_reply": "2023-05-26T07:42:56.058774Z",
     "shell.execute_reply.started": "2023-05-26T07:42:56.032211Z"
    },
    "tags": []
   },
   "outputs": [
    {
     "ename": "AttributeError",
     "evalue": "'list' object has no attribute 'shape'",
     "output_type": "error",
     "traceback": [
      "\u001b[0;31m---------------------------------------------------------------------------\u001b[0m",
      "\u001b[0;31mAttributeError\u001b[0m                            Traceback (most recent call last)",
      "Cell \u001b[0;32mIn [15], line 1\u001b[0m\n\u001b[0;32m----> 1\u001b[0m \u001b[43mlr\u001b[49m\u001b[38;5;241;43m.\u001b[39;49m\u001b[43mshape\u001b[49m\n",
      "\u001b[0;31mAttributeError\u001b[0m: 'list' object has no attribute 'shape'"
     ]
    }
   ],
   "source": [
    "lr.shape"
   ]
  }
 ],
 "metadata": {
  "kernelspec": {
   "display_name": "Python 3 (ipykernel)",
   "language": "python",
   "name": "python3"
  },
  "language_info": {
   "codemirror_mode": {
    "name": "ipython",
    "version": 3
   },
   "file_extension": ".py",
   "mimetype": "text/x-python",
   "name": "python",
   "nbconvert_exporter": "python",
   "pygments_lexer": "ipython3",
   "version": "3.8.5"
  }
 },
 "nbformat": 4,
 "nbformat_minor": 5
}
