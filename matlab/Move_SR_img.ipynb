{
 "cells": [
  {
   "cell_type": "code",
   "execution_count": 1,
   "id": "463ad7e8-7d6e-4833-957b-6224d8b165b2",
   "metadata": {
    "execution": {
     "iopub.execute_input": "2023-03-23T14:24:10.355107Z",
     "iopub.status.busy": "2023-03-23T14:24:10.354400Z",
     "iopub.status.idle": "2023-03-23T14:24:10.698451Z",
     "shell.execute_reply": "2023-03-23T14:24:10.697085Z",
     "shell.execute_reply.started": "2023-03-23T14:24:10.355027Z"
    },
    "tags": []
   },
   "outputs": [
    {
     "name": "stdout",
     "output_type": "stream",
     "text": [
      "copy from ../srarn/srarn_v5t_i14_x2_test/results-Set5/* to ./SR/BI/v5t_i14/Set5/x2/\n",
      "copy from ../srarn/srarn_v5t_i14_x2_test/results-Set14/* to ./SR/BI/v5t_i14/Set14/x2/\n",
      "copy from ../srarn/srarn_v5t_i14_x2_test/results-B100/* to ./SR/BI/v5t_i14/B100/x2/\n",
      "copy from ../srarn/srarn_v5t_i14_x2_test/results-Urban100/* to ./SR/BI/v5t_i14/Urban100/x2/\n",
      "copy from ../srarn/srarn_v5t_i14_x2_test/results-Manga109/* to ./SR/BI/v5t_i14/Manga109/x2/\n",
      "copy from ../srarn/srarn_v5t_i14_x3_test/results-Set5/* to ./SR/BI/v5t_i14/Set5/x3/\n",
      "copy from ../srarn/srarn_v5t_i14_x3_test/results-Set14/* to ./SR/BI/v5t_i14/Set14/x3/\n",
      "copy from ../srarn/srarn_v5t_i14_x3_test/results-B100/* to ./SR/BI/v5t_i14/B100/x3/\n",
      "copy from ../srarn/srarn_v5t_i14_x3_test/results-Urban100/* to ./SR/BI/v5t_i14/Urban100/x3/\n",
      "copy from ../srarn/srarn_v5t_i14_x3_test/results-Manga109/* to ./SR/BI/v5t_i14/Manga109/x3/\n",
      "copy from ../srarn/srarn_v5t_i14_x4_test/results-Set5/* to ./SR/BI/v5t_i14/Set5/x4/\n",
      "copy from ../srarn/srarn_v5t_i14_x4_test/results-Set14/* to ./SR/BI/v5t_i14/Set14/x4/\n",
      "copy from ../srarn/srarn_v5t_i14_x4_test/results-B100/* to ./SR/BI/v5t_i14/B100/x4/\n",
      "copy from ../srarn/srarn_v5t_i14_x4_test/results-Urban100/* to ./SR/BI/v5t_i14/Urban100/x4/\n",
      "copy from ../srarn/srarn_v5t_i14_x4_test/results-Manga109/* to ./SR/BI/v5t_i14/Manga109/x4/\n",
      "copy from ../srarn/srarn_v5s_f11_x2_test/results-Set5/* to ./SR/BI/v5s_f11/Set5/x2/\n",
      "copy from ../srarn/srarn_v5s_f11_x2_test/results-Set14/* to ./SR/BI/v5s_f11/Set14/x2/\n",
      "copy from ../srarn/srarn_v5s_f11_x2_test/results-B100/* to ./SR/BI/v5s_f11/B100/x2/\n",
      "copy from ../srarn/srarn_v5s_f11_x2_test/results-Urban100/* to ./SR/BI/v5s_f11/Urban100/x2/\n",
      "copy from ../srarn/srarn_v5s_f11_x2_test/results-Manga109/* to ./SR/BI/v5s_f11/Manga109/x2/\n",
      "copy from ../srarn/srarn_v5s_f11_x3_test/results-Set5/* to ./SR/BI/v5s_f11/Set5/x3/\n",
      "copy from ../srarn/srarn_v5s_f11_x3_test/results-Set14/* to ./SR/BI/v5s_f11/Set14/x3/\n",
      "copy from ../srarn/srarn_v5s_f11_x3_test/results-B100/* to ./SR/BI/v5s_f11/B100/x3/\n",
      "copy from ../srarn/srarn_v5s_f11_x3_test/results-Urban100/* to ./SR/BI/v5s_f11/Urban100/x3/\n",
      "copy from ../srarn/srarn_v5s_f11_x3_test/results-Manga109/* to ./SR/BI/v5s_f11/Manga109/x3/\n",
      "copy from ../srarn/srarn_v5s_f11_x4_test/results-Set5/* to ./SR/BI/v5s_f11/Set5/x4/\n",
      "copy from ../srarn/srarn_v5s_f11_x4_test/results-Set14/* to ./SR/BI/v5s_f11/Set14/x4/\n",
      "copy from ../srarn/srarn_v5s_f11_x4_test/results-B100/* to ./SR/BI/v5s_f11/B100/x4/\n",
      "copy from ../srarn/srarn_v5s_f11_x4_test/results-Urban100/* to ./SR/BI/v5s_f11/Urban100/x4/\n",
      "copy from ../srarn/srarn_v5s_f11_x4_test/results-Manga109/* to ./SR/BI/v5s_f11/Manga109/x4/\n",
      "copy from ../srarn/srarn_v5_ps_g12_x2_test/results-Set5/* to ./SR/BI/v5_ps_g12/Set5/x2/\n",
      "copy from ../srarn/srarn_v5_ps_g12_x2_test/results-Set14/* to ./SR/BI/v5_ps_g12/Set14/x2/\n",
      "copy from ../srarn/srarn_v5_ps_g12_x2_test/results-B100/* to ./SR/BI/v5_ps_g12/B100/x2/\n",
      "copy from ../srarn/srarn_v5_ps_g12_x2_test/results-Urban100/* to ./SR/BI/v5_ps_g12/Urban100/x2/\n",
      "copy from ../srarn/srarn_v5_ps_g12_x2_test/results-Manga109/* to ./SR/BI/v5_ps_g12/Manga109/x2/\n",
      "copy from ../srarn/srarn_v5_ps_g12_x3_test/results-Set5/* to ./SR/BI/v5_ps_g12/Set5/x3/\n",
      "copy from ../srarn/srarn_v5_ps_g12_x3_test/results-Set14/* to ./SR/BI/v5_ps_g12/Set14/x3/\n",
      "copy from ../srarn/srarn_v5_ps_g12_x3_test/results-B100/* to ./SR/BI/v5_ps_g12/B100/x3/\n",
      "copy from ../srarn/srarn_v5_ps_g12_x3_test/results-Urban100/* to ./SR/BI/v5_ps_g12/Urban100/x3/\n",
      "copy from ../srarn/srarn_v5_ps_g12_x3_test/results-Manga109/* to ./SR/BI/v5_ps_g12/Manga109/x3/\n",
      "copy from ../srarn/srarn_v5_ps_g12_x4_test/results-Set5/* to ./SR/BI/v5_ps_g12/Set5/x4/\n",
      "copy from ../srarn/srarn_v5_ps_g12_x4_test/results-Set14/* to ./SR/BI/v5_ps_g12/Set14/x4/\n",
      "copy from ../srarn/srarn_v5_ps_g12_x4_test/results-B100/* to ./SR/BI/v5_ps_g12/B100/x4/\n",
      "copy from ../srarn/srarn_v5_ps_g12_x4_test/results-Urban100/* to ./SR/BI/v5_ps_g12/Urban100/x4/\n",
      "copy from ../srarn/srarn_v5_ps_g12_x4_test/results-Manga109/* to ./SR/BI/v5_ps_g12/Manga109/x4/\n"
     ]
    }
   ],
   "source": [
    "import os\n",
    "\n",
    "save_dir = './SR/BI/'\n",
    "model_dir = '../srarn/srarn_'\n",
    "models = ['v5t_i14', 'v5s_f11', 'v5_ps_g12']\n",
    "scales = ['2', '3', '4']\n",
    "datasets = ['Set5', 'Set14', 'B100', 'Urban100', 'Manga109']\n",
    "for model in models:\n",
    "    for s in scales:\n",
    "        for d in datasets:\n",
    "            # record_dir = model_dir + model + '_x'+ s + '_test/results-' + d\n",
    "            record_dir = model_dir + model + '_x'+ s + '_test/' + d\n",
    "            if not os.path.exists(record_dir):\n",
    "                print(f\"training record path {record_dir} does not exist\")\n",
    "                continue\n",
    "            record_imgs = record_dir + os.sep + '*'\n",
    "            test_dir = save_dir + model + os.sep + d + os.sep + 'x' + s + os.sep\n",
    "            if not os.path.exists(test_dir):\n",
    "                os.makedirs(test_dir, exist_ok=True)\n",
    "            print(f\"copy from {record_imgs} to {test_dir}\")\n",
    "            os.popen('cp ' + record_imgs + ' ' + test_dir)"
   ]
  },
  {
   "cell_type": "code",
   "execution_count": 2,
   "id": "7702c614-f3f0-4e2b-bc38-445346952821",
   "metadata": {
    "execution": {
     "iopub.execute_input": "2023-04-15T12:41:24.977934Z",
     "iopub.status.busy": "2023-04-15T12:41:24.977118Z",
     "iopub.status.idle": "2023-04-15T12:41:25.142206Z",
     "shell.execute_reply": "2023-04-15T12:41:25.140409Z",
     "shell.execute_reply.started": "2023-04-15T12:41:24.977878Z"
    },
    "tags": []
   },
   "outputs": [
    {
     "name": "stdout",
     "output_type": "stream",
     "text": [
      "copy from ../experiment/LatticeNet_x2/results-Set5/* to ./SR/BI/LatticeNet/Set5/x2/\n",
      "copy from ../experiment/LatticeNet_x2/results-Set14/* to ./SR/BI/LatticeNet/Set14/x2/\n",
      "copy from ../experiment/LatticeNet_x2/results-B100/* to ./SR/BI/LatticeNet/B100/x2/\n",
      "copy from ../experiment/LatticeNet_x2/results-Urban100/* to ./SR/BI/LatticeNet/Urban100/x2/\n",
      "copy from ../experiment/LatticeNet_x2/results-Manga109/* to ./SR/BI/LatticeNet/Manga109/x2/\n",
      "copy from ../experiment/LatticeNet_x3/results-Set5/* to ./SR/BI/LatticeNet/Set5/x3/\n",
      "copy from ../experiment/LatticeNet_x3/results-Set14/* to ./SR/BI/LatticeNet/Set14/x3/\n",
      "copy from ../experiment/LatticeNet_x3/results-B100/* to ./SR/BI/LatticeNet/B100/x3/\n",
      "copy from ../experiment/LatticeNet_x3/results-Urban100/* to ./SR/BI/LatticeNet/Urban100/x3/\n",
      "copy from ../experiment/LatticeNet_x3/results-Manga109/* to ./SR/BI/LatticeNet/Manga109/x3/\n",
      "copy from ../experiment/LatticeNet_x4/results-Set5/* to ./SR/BI/LatticeNet/Set5/x4/\n",
      "copy from ../experiment/LatticeNet_x4/results-Set14/* to ./SR/BI/LatticeNet/Set14/x4/\n",
      "copy from ../experiment/LatticeNet_x4/results-B100/* to ./SR/BI/LatticeNet/B100/x4/\n",
      "copy from ../experiment/LatticeNet_x4/results-Urban100/* to ./SR/BI/LatticeNet/Urban100/x4/\n",
      "copy from ../experiment/LatticeNet_x4/results-Manga109/* to ./SR/BI/LatticeNet/Manga109/x4/\n"
     ]
    }
   ],
   "source": [
    "import os\n",
    "\n",
    "save_dir = './SR/BI/'\n",
    "model_dir = '../experiment/'\n",
    "models = ['LatticeNet']\n",
    "scales = ['2', '3', '4']\n",
    "datasets = ['Set5', 'Set14', 'B100', 'Urban100', 'Manga109']\n",
    "for model in models:\n",
    "    for s in scales:\n",
    "        for d in datasets:\n",
    "            # record_dir = model_dir + model + '_x'+ s + '_test/results-' + d\n",
    "            record_dir = model_dir + model + '_x'+ s + '/results-' + d\n",
    "            # record_dir = model_dir + model + '_x'+ s + '_test/' + d\n",
    "            if not os.path.exists(record_dir):\n",
    "                print(f\"training record path {record_dir} does not exist\")\n",
    "                continue\n",
    "            record_imgs = record_dir + os.sep + '*'\n",
    "            test_dir = save_dir + model + os.sep + d + os.sep + 'x' + s + os.sep\n",
    "            if not os.path.exists(test_dir):\n",
    "                os.makedirs(test_dir, exist_ok=True)\n",
    "            print(f\"copy from {record_imgs} to {test_dir}\")\n",
    "            os.popen('cp ' + record_imgs + ' ' + test_dir)"
   ]
  },
  {
   "cell_type": "code",
   "execution_count": 12,
   "id": "9f89f96c-f40b-4087-8c0f-a097db11f2ad",
   "metadata": {
    "execution": {
     "iopub.execute_input": "2023-04-23T15:57:18.996539Z",
     "iopub.status.busy": "2023-04-23T15:57:18.994995Z",
     "iopub.status.idle": "2023-04-23T15:57:19.045826Z",
     "shell.execute_reply": "2023-04-23T15:57:19.044035Z",
     "shell.execute_reply.started": "2023-04-23T15:57:18.996455Z"
    },
    "tags": []
   },
   "outputs": [
    {
     "name": "stdout",
     "output_type": "stream",
     "text": [
      "copy from ../srarn_v5/v5fs_SmoothL1_x4_test/results-Set5/* to ./SR/BI/v5fs/Set5/x4/\n",
      "copy from ../srarn_v5/v5fs_SmoothL1_x4_test/results-Set14/* to ./SR/BI/v5fs/Set14/x4/\n",
      "copy from ../srarn_v5/v5fs_SmoothL1_x4_test/results-B100/* to ./SR/BI/v5fs/B100/x4/\n",
      "copy from ../srarn_v5/v5fs_SmoothL1_x4_test/results-Urban100/* to ./SR/BI/v5fs/Urban100/x4/\n",
      "copy from ../srarn_v5/v5fs_SmoothL1_x4_test/results-Manga109/* to ./SR/BI/v5fs/Manga109/x4/\n"
     ]
    }
   ],
   "source": [
    "import os\n",
    "\n",
    "save_dir = './SR/BI/'\n",
    "model_dir = '../srarn_v5/'\n",
    "# models = ['v5fbxt', 'v5fbt', 'v5fblt']\n",
    "# scales = ['2', '3', '4']\n",
    "models = ['v5fs']\n",
    "scales = ['4']\n",
    "datasets = ['Set5', 'Set14', 'B100', 'Urban100', 'Manga109']\n",
    "for model in models:\n",
    "    for s in scales:\n",
    "        for d in datasets:\n",
    "            # record_dir = model_dir + model + '_x'+ s + '_test/results-' + d\n",
    "            # record_dir = model_dir + model + '_s64_SmoothL1' + '_x'+ s + '_test/results-' + d\n",
    "            record_dir = model_dir + model + '_SmoothL1' + '_x'+ s + '_test/results-' + d\n",
    "            if not os.path.exists(record_dir):\n",
    "                print(f\"training record path {record_dir} does not exist\")\n",
    "                continue\n",
    "            record_imgs = record_dir + os.sep + '*'\n",
    "            test_dir = save_dir + model + os.sep + d + os.sep + 'x' + s + os.sep\n",
    "            if not os.path.exists(test_dir):\n",
    "                os.makedirs(test_dir, exist_ok=True)\n",
    "            print(f\"copy from {record_imgs} to {test_dir}\")\n",
    "            os.popen('cp ' + record_imgs + ' ' + test_dir)"
   ]
  },
  {
   "cell_type": "code",
   "execution_count": 13,
   "id": "99597625-4c20-42be-9441-66ea03a4061e",
   "metadata": {
    "execution": {
     "iopub.execute_input": "2023-04-23T15:57:27.079590Z",
     "iopub.status.busy": "2023-04-23T15:57:27.078811Z",
     "iopub.status.idle": "2023-04-23T15:57:27.130251Z",
     "shell.execute_reply": "2023-04-23T15:57:27.128373Z",
     "shell.execute_reply.started": "2023-04-23T15:57:27.079535Z"
    },
    "tags": []
   },
   "outputs": [
    {
     "name": "stdout",
     "output_type": "stream",
     "text": [
      "copy from ../srarn_v5/v5fs_SmoothL1_x4_test_plus/results-Set5/* to ./SR/BI/v5fs_plus/Set5/x4/\n",
      "copy from ../srarn_v5/v5fs_SmoothL1_x4_test_plus/results-Set14/* to ./SR/BI/v5fs_plus/Set14/x4/\n",
      "copy from ../srarn_v5/v5fs_SmoothL1_x4_test_plus/results-B100/* to ./SR/BI/v5fs_plus/B100/x4/\n",
      "copy from ../srarn_v5/v5fs_SmoothL1_x4_test_plus/results-Urban100/* to ./SR/BI/v5fs_plus/Urban100/x4/\n",
      "copy from ../srarn_v5/v5fs_SmoothL1_x4_test_plus/results-Manga109/* to ./SR/BI/v5fs_plus/Manga109/x4/\n"
     ]
    }
   ],
   "source": [
    "import os\n",
    "\n",
    "save_dir = './SR/BI/'\n",
    "model_dir = '../srarn_v5/'\n",
    "# model_plus = ['v5fbxt', 'v5fbt', 'v5fblt']\n",
    "# scales = ['2', '3', '4']\n",
    "model_plus = ['v5fs']\n",
    "scales = ['4']\n",
    "datasets = ['Set5', 'Set14', 'B100', 'Urban100', 'Manga109']\n",
    "for model in model_plus:\n",
    "    for s in scales:\n",
    "        for d in datasets:\n",
    "            # record_dir = model_dir + model + '_x'+ s + '_test/results-' + d\n",
    "            # record_dir = model_dir + model + '_s64_SmoothL1' + '_x'+ s + '_test_plus/results-' + d\n",
    "            record_dir = model_dir + model + '_SmoothL1' + '_x'+ s + '_test_plus/results-' + d\n",
    "            if not os.path.exists(record_dir):\n",
    "                print(f\"training record path {record_dir} does not exist\")\n",
    "                continue\n",
    "            record_imgs = record_dir + os.sep + '*'\n",
    "            test_dir = save_dir + model + '_plus' + os.sep + d + os.sep + 'x' + s + os.sep\n",
    "            if not os.path.exists(test_dir):\n",
    "                os.makedirs(test_dir, exist_ok=True)\n",
    "            print(f\"copy from {record_imgs} to {test_dir}\")\n",
    "            os.popen('cp ' + record_imgs + ' ' + test_dir)"
   ]
  },
  {
   "cell_type": "code",
   "execution_count": 14,
   "id": "6e69547d-78b0-4059-9b64-c495ec6ecd96",
   "metadata": {
    "execution": {
     "iopub.execute_input": "2023-04-23T15:57:33.929630Z",
     "iopub.status.busy": "2023-04-23T15:57:33.928847Z",
     "iopub.status.idle": "2023-04-23T15:57:33.953217Z",
     "shell.execute_reply": "2023-04-23T15:57:33.951462Z",
     "shell.execute_reply.started": "2023-04-23T15:57:33.929574Z"
    },
    "tags": []
   },
   "outputs": [
    {
     "name": "stdout",
     "output_type": "stream",
     "text": [
      "copy from ../srarn_v5/v5fs_SmoothL1_x4_test/model/inf_model.pt to ../runtime_models/v5fs_x4.pt\n"
     ]
    }
   ],
   "source": [
    "import os\n",
    "\n",
    "save_dir = '../runtime_models/'\n",
    "model_dir = '../srarn_v5/'\n",
    "models = ['v5fs']\n",
    "scales = ['4']\n",
    "for model in models:\n",
    "    for s in scales:\n",
    "        # record_dir = model_dir + model + '_x'+ s + '_test/results-' + d\n",
    "        record_dir = model_dir + model + '_SmoothL1' + '_x'+ s + '_test/model'\n",
    "        if not os.path.exists(record_dir):\n",
    "            print(f\"training record path {record_dir} does not exist\")\n",
    "            continue\n",
    "        record_file = record_dir + os.sep + 'inf_model.pt'\n",
    "        dist_dir = save_dir + model + '_x'+ s + '.pt'\n",
    "        if not os.path.exists(test_dir):\n",
    "            os.makedirs(test_dir, exist_ok=True)\n",
    "        print(f\"copy from {record_file} to {dist_dir}\")\n",
    "        os.popen('cp ' + record_file + ' ' + dist_dir)"
   ]
  },
  {
   "cell_type": "code",
   "execution_count": 4,
   "id": "c080f169-7bcb-4981-b497-33fa4deef402",
   "metadata": {
    "execution": {
     "iopub.execute_input": "2023-04-21T08:15:38.800181Z",
     "iopub.status.busy": "2023-04-21T08:15:38.799245Z",
     "iopub.status.idle": "2023-04-21T08:15:38.874879Z",
     "shell.execute_reply": "2023-04-21T08:15:38.872872Z",
     "shell.execute_reply.started": "2023-04-21T08:15:38.800119Z"
    },
    "tags": []
   },
   "outputs": [
    {
     "name": "stdout",
     "output_type": "stream",
     "text": [
      "copy from ../srarn_v5/v5fbxt_s64_SmoothL1_x2_test/model/inf_model.pt to ../runtime_models/v5fbxt_x2.pt\n",
      "copy from ../srarn_v5/v5fbxt_s64_SmoothL1_x3_test/model/inf_model.pt to ../runtime_models/v5fbxt_x3.pt\n",
      "copy from ../srarn_v5/v5fbxt_s64_SmoothL1_x4_test/model/inf_model.pt to ../runtime_models/v5fbxt_x4.pt\n",
      "copy from ../srarn_v5/v5fbt_s64_SmoothL1_x2_test/model/inf_model.pt to ../runtime_models/v5fbt_x2.pt\n",
      "copy from ../srarn_v5/v5fbt_s64_SmoothL1_x3_test/model/inf_model.pt to ../runtime_models/v5fbt_x3.pt\n",
      "copy from ../srarn_v5/v5fbt_s64_SmoothL1_x4_test/model/inf_model.pt to ../runtime_models/v5fbt_x4.pt\n",
      "copy from ../srarn_v5/v5fblt_s64_SmoothL1_x2_test/model/inf_model.pt to ../runtime_models/v5fblt_x2.pt\n",
      "copy from ../srarn_v5/v5fblt_s64_SmoothL1_x3_test/model/inf_model.pt to ../runtime_models/v5fblt_x3.pt\n",
      "copy from ../srarn_v5/v5fblt_s64_SmoothL1_x4_test/model/inf_model.pt to ../runtime_models/v5fblt_x4.pt\n"
     ]
    }
   ],
   "source": [
    "import os\n",
    "\n",
    "save_dir = '../runtime_models/'\n",
    "model_dir = '../srarn_v5/'\n",
    "models = ['v5fbxt', 'v5fbt', 'v5fblt']\n",
    "scales = ['2', '3', '4']\n",
    "for model in models:\n",
    "    for s in scales:\n",
    "        # record_dir = model_dir + model + '_x'+ s + '_test/results-' + d\n",
    "        record_dir = model_dir + model + '_s64_SmoothL1' + '_x'+ s + '_test/model'\n",
    "        if not os.path.exists(record_dir):\n",
    "            print(f\"training record path {record_dir} does not exist\")\n",
    "            continue\n",
    "        record_file = record_dir + os.sep + 'inf_model.pt'\n",
    "        dist_dir = save_dir + model + '_x'+ s + '.pt'\n",
    "        if not os.path.exists(test_dir):\n",
    "            os.makedirs(test_dir, exist_ok=True)\n",
    "        print(f\"copy from {record_file} to {dist_dir}\")\n",
    "        os.popen('cp ' + record_file + ' ' + dist_dir)"
   ]
  },
  {
   "cell_type": "code",
   "execution_count": 18,
   "id": "55113c3c-f8f3-4498-85dc-e727da3f5965",
   "metadata": {
    "execution": {
     "iopub.execute_input": "2023-04-24T13:22:11.468589Z",
     "iopub.status.busy": "2023-04-24T13:22:11.468136Z",
     "iopub.status.idle": "2023-04-24T13:22:11.682335Z",
     "shell.execute_reply": "2023-04-24T13:22:11.680084Z",
     "shell.execute_reply.started": "2023-04-24T13:22:11.468561Z"
    },
    "tags": []
   },
   "outputs": [
    {
     "name": "stdout",
     "output_type": "stream",
     "text": [
      "copy from ../srarn_v5/v5fbxt_s64_SmoothL1_x2_test/results-Set5/* to ../../Find_Crop/models/ERACN-XT/Set5/x2/\n",
      "copy from ../srarn_v5/v5fbxt_s64_SmoothL1_x2_test/results-Set14/* to ../../Find_Crop/models/ERACN-XT/Set14/x2/\n",
      "copy from ../srarn_v5/v5fbxt_s64_SmoothL1_x2_test/results-B100/* to ../../Find_Crop/models/ERACN-XT/B100/x2/\n",
      "copy from ../srarn_v5/v5fbxt_s64_SmoothL1_x2_test/results-Urban100/* to ../../Find_Crop/models/ERACN-XT/Urban100/x2/\n",
      "copy from ../srarn_v5/v5fbxt_s64_SmoothL1_x2_test/results-Manga109/* to ../../Find_Crop/models/ERACN-XT/Manga109/x2/\n",
      "copy from ../srarn_v5/v5fbxt_s64_SmoothL1_x3_test/results-Set5/* to ../../Find_Crop/models/ERACN-XT/Set5/x3/\n",
      "copy from ../srarn_v5/v5fbxt_s64_SmoothL1_x3_test/results-Set14/* to ../../Find_Crop/models/ERACN-XT/Set14/x3/\n",
      "copy from ../srarn_v5/v5fbxt_s64_SmoothL1_x3_test/results-B100/* to ../../Find_Crop/models/ERACN-XT/B100/x3/\n",
      "copy from ../srarn_v5/v5fbxt_s64_SmoothL1_x3_test/results-Urban100/* to ../../Find_Crop/models/ERACN-XT/Urban100/x3/\n",
      "copy from ../srarn_v5/v5fbxt_s64_SmoothL1_x3_test/results-Manga109/* to ../../Find_Crop/models/ERACN-XT/Manga109/x3/\n",
      "copy from ../srarn_v5/v5fbxt_s64_SmoothL1_x4_test/results-Set5/* to ../../Find_Crop/models/ERACN-XT/Set5/x4/\n",
      "copy from ../srarn_v5/v5fbxt_s64_SmoothL1_x4_test/results-Set14/* to ../../Find_Crop/models/ERACN-XT/Set14/x4/\n",
      "copy from ../srarn_v5/v5fbxt_s64_SmoothL1_x4_test/results-B100/* to ../../Find_Crop/models/ERACN-XT/B100/x4/\n",
      "copy from ../srarn_v5/v5fbxt_s64_SmoothL1_x4_test/results-Urban100/* to ../../Find_Crop/models/ERACN-XT/Urban100/x4/\n",
      "copy from ../srarn_v5/v5fbxt_s64_SmoothL1_x4_test/results-Manga109/* to ../../Find_Crop/models/ERACN-XT/Manga109/x4/\n"
     ]
    }
   ],
   "source": [
    "import os\n",
    "\n",
    "save_dir = '../../Find_Crop/models/ERACN-XT/'\n",
    "model_dir = '../srarn_v5/'\n",
    "# models = ['v5fbxt', 'v5fbt', 'v5fblt']\n",
    "scales = ['2', '3', '4']\n",
    "models = ['v5fbxt']\n",
    "# scales = ['4']\n",
    "datasets = ['Set5', 'Set14', 'B100', 'Urban100', 'Manga109']\n",
    "for model in models:\n",
    "    for s in scales:\n",
    "        for d in datasets:\n",
    "            # record_dir = model_dir + model + '_x'+ s + '_test/results-' + d\n",
    "            record_dir = model_dir + model + '_s64_SmoothL1' + '_x'+ s + '_test/results-' + d\n",
    "            # record_dir = model_dir + model + '_SmoothL1' + '_x'+ s + '_test/results-' + d  # for v5fs and v5s\n",
    "            if not os.path.exists(record_dir):\n",
    "                print(f\"training record path {record_dir} does not exist\")\n",
    "                continue\n",
    "            record_imgs = record_dir + os.sep + '*'\n",
    "            test_dir = save_dir + d + os.sep + 'x' + s + os.sep\n",
    "            if not os.path.exists(test_dir):\n",
    "                os.makedirs(test_dir, exist_ok=True)\n",
    "            print(f\"copy from {record_imgs} to {test_dir}\")\n",
    "            os.popen('cp ' + record_imgs + ' ' + test_dir)"
   ]
  }
 ],
 "metadata": {
  "kernelspec": {
   "display_name": "Python 3 (ipykernel)",
   "language": "python",
   "name": "python3"
  },
  "language_info": {
   "codemirror_mode": {
    "name": "ipython",
    "version": 3
   },
   "file_extension": ".py",
   "mimetype": "text/x-python",
   "name": "python",
   "nbconvert_exporter": "python",
   "pygments_lexer": "ipython3",
   "version": "3.8.5"
  }
 },
 "nbformat": 4,
 "nbformat_minor": 5
}
