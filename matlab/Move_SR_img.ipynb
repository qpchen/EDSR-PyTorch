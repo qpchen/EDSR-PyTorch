{
 "cells": [
  {
   "cell_type": "code",
   "execution_count": 1,
   "id": "463ad7e8-7d6e-4833-957b-6224d8b165b2",
   "metadata": {
    "execution": {
     "iopub.execute_input": "2023-03-23T14:24:10.355107Z",
     "iopub.status.busy": "2023-03-23T14:24:10.354400Z",
     "iopub.status.idle": "2023-03-23T14:24:10.698451Z",
     "shell.execute_reply": "2023-03-23T14:24:10.697085Z",
     "shell.execute_reply.started": "2023-03-23T14:24:10.355027Z"
    },
    "tags": []
   },
   "outputs": [
    {
     "name": "stdout",
     "output_type": "stream",
     "text": [
      "copy from ../srarn/srarn_v5t_i14_x2_test/results-Set5/* to ./SR/BI/v5t_i14/Set5/x2/\n",
      "copy from ../srarn/srarn_v5t_i14_x2_test/results-Set14/* to ./SR/BI/v5t_i14/Set14/x2/\n",
      "copy from ../srarn/srarn_v5t_i14_x2_test/results-B100/* to ./SR/BI/v5t_i14/B100/x2/\n",
      "copy from ../srarn/srarn_v5t_i14_x2_test/results-Urban100/* to ./SR/BI/v5t_i14/Urban100/x2/\n",
      "copy from ../srarn/srarn_v5t_i14_x2_test/results-Manga109/* to ./SR/BI/v5t_i14/Manga109/x2/\n",
      "copy from ../srarn/srarn_v5t_i14_x3_test/results-Set5/* to ./SR/BI/v5t_i14/Set5/x3/\n",
      "copy from ../srarn/srarn_v5t_i14_x3_test/results-Set14/* to ./SR/BI/v5t_i14/Set14/x3/\n",
      "copy from ../srarn/srarn_v5t_i14_x3_test/results-B100/* to ./SR/BI/v5t_i14/B100/x3/\n",
      "copy from ../srarn/srarn_v5t_i14_x3_test/results-Urban100/* to ./SR/BI/v5t_i14/Urban100/x3/\n",
      "copy from ../srarn/srarn_v5t_i14_x3_test/results-Manga109/* to ./SR/BI/v5t_i14/Manga109/x3/\n",
      "copy from ../srarn/srarn_v5t_i14_x4_test/results-Set5/* to ./SR/BI/v5t_i14/Set5/x4/\n",
      "copy from ../srarn/srarn_v5t_i14_x4_test/results-Set14/* to ./SR/BI/v5t_i14/Set14/x4/\n",
      "copy from ../srarn/srarn_v5t_i14_x4_test/results-B100/* to ./SR/BI/v5t_i14/B100/x4/\n",
      "copy from ../srarn/srarn_v5t_i14_x4_test/results-Urban100/* to ./SR/BI/v5t_i14/Urban100/x4/\n",
      "copy from ../srarn/srarn_v5t_i14_x4_test/results-Manga109/* to ./SR/BI/v5t_i14/Manga109/x4/\n",
      "copy from ../srarn/srarn_v5s_f11_x2_test/results-Set5/* to ./SR/BI/v5s_f11/Set5/x2/\n",
      "copy from ../srarn/srarn_v5s_f11_x2_test/results-Set14/* to ./SR/BI/v5s_f11/Set14/x2/\n",
      "copy from ../srarn/srarn_v5s_f11_x2_test/results-B100/* to ./SR/BI/v5s_f11/B100/x2/\n",
      "copy from ../srarn/srarn_v5s_f11_x2_test/results-Urban100/* to ./SR/BI/v5s_f11/Urban100/x2/\n",
      "copy from ../srarn/srarn_v5s_f11_x2_test/results-Manga109/* to ./SR/BI/v5s_f11/Manga109/x2/\n",
      "copy from ../srarn/srarn_v5s_f11_x3_test/results-Set5/* to ./SR/BI/v5s_f11/Set5/x3/\n",
      "copy from ../srarn/srarn_v5s_f11_x3_test/results-Set14/* to ./SR/BI/v5s_f11/Set14/x3/\n",
      "copy from ../srarn/srarn_v5s_f11_x3_test/results-B100/* to ./SR/BI/v5s_f11/B100/x3/\n",
      "copy from ../srarn/srarn_v5s_f11_x3_test/results-Urban100/* to ./SR/BI/v5s_f11/Urban100/x3/\n",
      "copy from ../srarn/srarn_v5s_f11_x3_test/results-Manga109/* to ./SR/BI/v5s_f11/Manga109/x3/\n",
      "copy from ../srarn/srarn_v5s_f11_x4_test/results-Set5/* to ./SR/BI/v5s_f11/Set5/x4/\n",
      "copy from ../srarn/srarn_v5s_f11_x4_test/results-Set14/* to ./SR/BI/v5s_f11/Set14/x4/\n",
      "copy from ../srarn/srarn_v5s_f11_x4_test/results-B100/* to ./SR/BI/v5s_f11/B100/x4/\n",
      "copy from ../srarn/srarn_v5s_f11_x4_test/results-Urban100/* to ./SR/BI/v5s_f11/Urban100/x4/\n",
      "copy from ../srarn/srarn_v5s_f11_x4_test/results-Manga109/* to ./SR/BI/v5s_f11/Manga109/x4/\n",
      "copy from ../srarn/srarn_v5_ps_g12_x2_test/results-Set5/* to ./SR/BI/v5_ps_g12/Set5/x2/\n",
      "copy from ../srarn/srarn_v5_ps_g12_x2_test/results-Set14/* to ./SR/BI/v5_ps_g12/Set14/x2/\n",
      "copy from ../srarn/srarn_v5_ps_g12_x2_test/results-B100/* to ./SR/BI/v5_ps_g12/B100/x2/\n",
      "copy from ../srarn/srarn_v5_ps_g12_x2_test/results-Urban100/* to ./SR/BI/v5_ps_g12/Urban100/x2/\n",
      "copy from ../srarn/srarn_v5_ps_g12_x2_test/results-Manga109/* to ./SR/BI/v5_ps_g12/Manga109/x2/\n",
      "copy from ../srarn/srarn_v5_ps_g12_x3_test/results-Set5/* to ./SR/BI/v5_ps_g12/Set5/x3/\n",
      "copy from ../srarn/srarn_v5_ps_g12_x3_test/results-Set14/* to ./SR/BI/v5_ps_g12/Set14/x3/\n",
      "copy from ../srarn/srarn_v5_ps_g12_x3_test/results-B100/* to ./SR/BI/v5_ps_g12/B100/x3/\n",
      "copy from ../srarn/srarn_v5_ps_g12_x3_test/results-Urban100/* to ./SR/BI/v5_ps_g12/Urban100/x3/\n",
      "copy from ../srarn/srarn_v5_ps_g12_x3_test/results-Manga109/* to ./SR/BI/v5_ps_g12/Manga109/x3/\n",
      "copy from ../srarn/srarn_v5_ps_g12_x4_test/results-Set5/* to ./SR/BI/v5_ps_g12/Set5/x4/\n",
      "copy from ../srarn/srarn_v5_ps_g12_x4_test/results-Set14/* to ./SR/BI/v5_ps_g12/Set14/x4/\n",
      "copy from ../srarn/srarn_v5_ps_g12_x4_test/results-B100/* to ./SR/BI/v5_ps_g12/B100/x4/\n",
      "copy from ../srarn/srarn_v5_ps_g12_x4_test/results-Urban100/* to ./SR/BI/v5_ps_g12/Urban100/x4/\n",
      "copy from ../srarn/srarn_v5_ps_g12_x4_test/results-Manga109/* to ./SR/BI/v5_ps_g12/Manga109/x4/\n"
     ]
    }
   ],
   "source": [
    "import os\n",
    "\n",
    "save_dir = './SR/BI/'\n",
    "model_dir = '../srarn/srarn_'\n",
    "models = ['v5t_i14', 'v5s_f11', 'v5_ps_g12']\n",
    "scales = ['2', '3', '4']\n",
    "datasets = ['Set5', 'Set14', 'B100', 'Urban100', 'Manga109']\n",
    "for model in models:\n",
    "    for s in scales:\n",
    "        for d in datasets:\n",
    "            record_dir = model_dir + model + '_x'+ s + '_test/results-' + d\n",
    "            if not os.path.exists(record_dir):\n",
    "                print(f\"training record path {record_dir} does not exist\")\n",
    "                continue\n",
    "            record_imgs = record_dir + os.sep + '*'\n",
    "            test_dir = save_dir + model + os.sep + d + os.sep + 'x' + s + os.sep\n",
    "            if not os.path.exists(test_dir):\n",
    "                os.makedirs(test_dir, exist_ok=True)\n",
    "            print(f\"copy from {record_imgs} to {test_dir}\")\n",
    "            os.popen('cp ' + record_imgs + ' ' + test_dir)"
   ]
  }
 ],
 "metadata": {
  "kernelspec": {
   "display_name": "Python 3 (ipykernel)",
   "language": "python",
   "name": "python3"
  },
  "language_info": {
   "codemirror_mode": {
    "name": "ipython",
    "version": 3
   },
   "file_extension": ".py",
   "mimetype": "text/x-python",
   "name": "python",
   "nbconvert_exporter": "python",
   "pygments_lexer": "ipython3",
   "version": "3.8.5"
  }
 },
 "nbformat": 4,
 "nbformat_minor": 5
}
