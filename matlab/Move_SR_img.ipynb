{
 "cells": [
  {
   "cell_type": "code",
   "execution_count": 18,
   "id": "463ad7e8-7d6e-4833-957b-6224d8b165b2",
   "metadata": {
    "execution": {
     "iopub.execute_input": "2023-03-06T08:12:02.552888Z",
     "iopub.status.busy": "2023-03-06T08:12:02.552090Z",
     "iopub.status.idle": "2023-03-06T08:12:02.832390Z",
     "shell.execute_reply": "2023-03-06T08:12:02.830240Z",
     "shell.execute_reply.started": "2023-03-06T08:12:02.552830Z"
    },
    "tags": []
   },
   "outputs": [
    {
     "name": "stdout",
     "output_type": "stream",
     "text": [
      "copy from ../srarn/srarn_v5xt_j15_x2_test/results-Set5/* to ./SR/BI/v5xt_j15/Set5/x2/\n",
      "copy from ../srarn/srarn_v5xt_j15_x2_test/results-Set14/* to ./SR/BI/v5xt_j15/Set14/x2/\n",
      "copy from ../srarn/srarn_v5xt_j15_x2_test/results-B100/* to ./SR/BI/v5xt_j15/B100/x2/\n",
      "copy from ../srarn/srarn_v5xt_j15_x2_test/results-Urban100/* to ./SR/BI/v5xt_j15/Urban100/x2/\n",
      "copy from ../srarn/srarn_v5xt_j15_x2_test/results-Manga109/* to ./SR/BI/v5xt_j15/Manga109/x2/\n",
      "copy from ../srarn/srarn_v5xt_j15_x3_test/results-Set5/* to ./SR/BI/v5xt_j15/Set5/x3/\n",
      "copy from ../srarn/srarn_v5xt_j15_x3_test/results-Set14/* to ./SR/BI/v5xt_j15/Set14/x3/\n",
      "copy from ../srarn/srarn_v5xt_j15_x3_test/results-B100/* to ./SR/BI/v5xt_j15/B100/x3/\n",
      "copy from ../srarn/srarn_v5xt_j15_x3_test/results-Urban100/* to ./SR/BI/v5xt_j15/Urban100/x3/\n",
      "copy from ../srarn/srarn_v5xt_j15_x3_test/results-Manga109/* to ./SR/BI/v5xt_j15/Manga109/x3/\n",
      "copy from ../srarn/srarn_v5xt_j15_x4_test/results-Set5/* to ./SR/BI/v5xt_j15/Set5/x4/\n",
      "copy from ../srarn/srarn_v5xt_j15_x4_test/results-Set14/* to ./SR/BI/v5xt_j15/Set14/x4/\n",
      "copy from ../srarn/srarn_v5xt_j15_x4_test/results-B100/* to ./SR/BI/v5xt_j15/B100/x4/\n",
      "copy from ../srarn/srarn_v5xt_j15_x4_test/results-Urban100/* to ./SR/BI/v5xt_j15/Urban100/x4/\n",
      "copy from ../srarn/srarn_v5xt_j15_x4_test/results-Manga109/* to ./SR/BI/v5xt_j15/Manga109/x4/\n"
     ]
    }
   ],
   "source": [
    "import os\n",
    "\n",
    "save_dir = './SR/BI/'\n",
    "models = ['v5xt_j15']\n",
    "scales = ['2', '3', '4']\n",
    "datasets = ['Set5', 'Set14', 'B100', 'Urban100', 'Manga109']\n",
    "for model in models:\n",
    "    for s in scales:\n",
    "        for d in datasets:\n",
    "            record_dir = '../srarn/srarn_' + model + '_x'+ s + '_test/results-' + d\n",
    "            if not os.path.exists(record_dir):\n",
    "                print(f\"training record path {record_dir} does not exist\")\n",
    "                continue\n",
    "            record_imgs = record_dir + os.sep + '*'\n",
    "            test_dir = save_dir + model + os.sep + d + os.sep + 'x' + s + os.sep\n",
    "            if not os.path.exists(test_dir):\n",
    "                os.makedirs(test_dir, exist_ok=True)\n",
    "            print(f\"copy from {record_imgs} to {test_dir}\")\n",
    "            os.popen('cp ' + record_imgs + ' ' + test_dir)"
   ]
  }
 ],
 "metadata": {
  "kernelspec": {
   "display_name": "Python 3 (ipykernel)",
   "language": "python",
   "name": "python3"
  },
  "language_info": {
   "codemirror_mode": {
    "name": "ipython",
    "version": 3
   },
   "file_extension": ".py",
   "mimetype": "text/x-python",
   "name": "python",
   "nbconvert_exporter": "python",
   "pygments_lexer": "ipython3",
   "version": "3.8.5"
  }
 },
 "nbformat": 4,
 "nbformat_minor": 5
}
